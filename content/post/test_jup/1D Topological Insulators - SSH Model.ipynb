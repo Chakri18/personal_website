{
 "cells": [
  {
   "cell_type": "markdown",
   "metadata": {},
   "source": [
    "We are interested to understand some non-trivial topological phases in 1 dimension system. Our model system is a tight binding model with two atoms per unit cell with $t_1$ and $t_2$ as hopping parameters and the on-site energy is assumed to be zero. The Hamiltonian is given by,\n",
    "\n",
    "$$ \\hat{\\mathcal{H}} = \\sum_n \\left[ t_1|n_a\\rangle \\langle n_b| + t_2|n_b\\rangle \\langle (n+1)_a| + h.c. \\right]$$\n",
    "where, $t_1 - $ Intra cell hopping amplitude; $t_2 - $ Inter cell hopping amplitude"
   ]
  },
  {
   "cell_type": "markdown",
   "metadata": {},
   "source": [
    "### Importing the required libraries"
   ]
  },
  {
   "cell_type": "code",
   "execution_count": null,
   "metadata": {},
   "outputs": [],
   "source": [
    "import numpy as np\n",
    "from bqplot import pyplot as plt\n",
    "import ipywidgets as ipy\n",
    "%matplotlib notebook"
   ]
  },
  {
   "cell_type": "markdown",
   "metadata": {},
   "source": [
    "### Functions required for the task"
   ]
  },
  {
   "cell_type": "code",
   "execution_count": null,
   "metadata": {},
   "outputs": [],
   "source": [
    "def SSH_model(N = 25, t1 = 2.0, t2 = 2.0):\n",
    "    Hmat = np.zeros([2*N,2*N])\n",
    "    for i in range(len(Hmat)-1):\n",
    "        Hmat[i][i+1] = (1-i%2)*t1 + (i%2)*t2 #0.5*np.random.random()\n",
    "        Hmat[i+1][i] = Hmat[i][i+1]\n",
    "        #Hmat[i][i] = np.random.random()\n",
    "    return Hmat\n",
    "\n",
    "def compute(Hmat):\n",
    "    eigenenergies, eigenstate = np.linalg.eigh(Hmat)\n",
    "    return eigenenergies, eigenstate\n",
    "\n",
    "def update(t1 = 2.0):\n",
    "    N = 100; t2 = 2.0;\n",
    "    ee,es = compute(SSH_model(N, t1,t2))\n",
    "    fig1 = plt.figure(title=\"Eigenenergies\", padding_y = 0, \n",
    "                      max_aspect_ratio =1, min_aspect_ratio =1)\n",
    "    plt.scatter(range(2*N),ee, colors = ['red'])\n",
    "    fig2 = plt.figure(title=\"Eigenstates\", padding_y = 0)\n",
    "    plt.plot(range(2*N),np.absolute(es[:,0]))\n",
    "    plt.plot(range(2*N),np.absolute(es[:,N]))\n",
    "    return ipy.HBox([fig1,fig2])"
   ]
  },
  {
   "cell_type": "markdown",
   "metadata": {},
   "source": [
    "### Visualization of the Tight-Binding Matrix"
   ]
  },
  {
   "cell_type": "code",
   "execution_count": null,
   "metadata": {},
   "outputs": [],
   "source": [
    "plt.figure(title=\"The tight-binding matrix\", padding_y = 0, \n",
    "           max_aspect_ratio =1, min_aspect_ratio =1)\n",
    "Hmat = SSH_model(100,1,2)\n",
    "plt.gridheatmap(Hmat[:10,:10])\n",
    "plt.show()"
   ]
  },
  {
   "cell_type": "markdown",
   "metadata": {},
   "source": [
    "### Energy Spectrum and the Eigenstates"
   ]
  },
  {
   "cell_type": "code",
   "execution_count": null,
   "metadata": {
    "code_folding": [
     6
    ]
   },
   "outputs": [],
   "source": [
    "ipy.interact(update, t1 = (0,4,0.05))\n",
    "N = 15\n",
    "ih = np.linspace(0,4,101); ee1 = np.zeros([len(ih),2*N])\n",
    "for j in range(len(ih)):\n",
    "    ee1[j],_ = compute(SSH_model(N,ih[j],2))\n",
    "plt.figure(title=\"Energy Spectrum versus intra cell hopping(N = 15)\")\n",
    "for k in range(2*N):\n",
    "    plt.plot(ih,ee1[:,k])\n",
    "plt.ylabel('Energy')\n",
    "plt.xlabel('Intra cell hopping(t1)')\n",
    "plt.show()\n",
    "N = 15\n",
    "ih = np.linspace(0,4,101); ee1 = np.zeros([len(ih),2*N])\n",
    "for j in range(len(ih)):\n",
    "    ee1[j],_ = compute(SSH_model(N,2,ih[j]))\n",
    "plt.figure(title=\"Energy Spectrum versus inter cell hopping(N = 15)\")\n",
    "for k in range(2*N):\n",
    "    plt.plot(ih,ee1[:,k])\n",
    "plt.ylabel('Energy')\n",
    "plt.xlabel('Inter cell hopping(t2)')\n",
    "plt.show()"
   ]
  },
  {
   "cell_type": "markdown",
   "metadata": {},
   "source": [
    "### Let us add some random noises to our Hamiltonian\n",
    "\n",
    "### 1. Noise term in the hopping terms"
   ]
  },
  {
   "cell_type": "code",
   "execution_count": null,
   "metadata": {},
   "outputs": [],
   "source": [
    "def SSH_model(N = 25, t1 = 2.0, t2 = 2.0):\n",
    "    Hmat = np.zeros([2*N,2*N])\n",
    "    for i in range(len(Hmat)-1):\n",
    "        Hmat[i][i+1] = (1-i%2)*t1 + (i%2)*t2 + np.random.random()\n",
    "        Hmat[i+1][i] = Hmat[i][i+1]\n",
    "        #Hmat[i][i] = np.random.random()\n",
    "    return Hmat\n",
    "\n",
    "def compute(Hmat):\n",
    "    eigenenergies, eigenstate = np.linalg.eigh(Hmat)\n",
    "    return eigenenergies, eigenstate"
   ]
  },
  {
   "cell_type": "code",
   "execution_count": null,
   "metadata": {},
   "outputs": [],
   "source": [
    "N = 15\n",
    "ih = np.linspace(0,4,101); ee1 = np.zeros([len(ih),2*N])\n",
    "for j in range(len(ih)):\n",
    "    ee1[j],_ = compute(SSH_model(N,ih[j],2))\n",
    "plt.figure(title=\"Energy Spectrum versus intra cell hopping(N = 15)\")\n",
    "for k in range(2*N):\n",
    "    plt.plot(ih,ee1[:,k])\n",
    "plt.ylabel('Energy')\n",
    "plt.xlabel('Intra cell hopping(t1)')\n",
    "plt.show()"
   ]
  },
  {
   "cell_type": "markdown",
   "metadata": {},
   "source": [
    "### 2. Noise term in the onsite term"
   ]
  },
  {
   "cell_type": "code",
   "execution_count": null,
   "metadata": {},
   "outputs": [],
   "source": [
    "def SSH_model(N = 25, t1 = 2.0, t2 = 2.0):\n",
    "    Hmat = np.zeros([2*N,2*N])\n",
    "    for i in range(len(Hmat)-1):\n",
    "        Hmat[i][i+1] = (1-i%2)*t1 + (i%2)*t2 \n",
    "        Hmat[i+1][i] = Hmat[i][i+1]\n",
    "        Hmat[i][i] = np.random.random()#(1-i%2)*2 + (i%2)*(-1*2) ; \n",
    "        Hmat[-1][-1] = np.random.random()\n",
    "    return Hmat\n",
    "\n",
    "def compute(Hmat):\n",
    "    eigenenergies, eigenstate = np.linalg.eigh(Hmat)\n",
    "    return eigenenergies, eigenstate"
   ]
  },
  {
   "cell_type": "code",
   "execution_count": null,
   "metadata": {},
   "outputs": [],
   "source": [
    "N = 15\n",
    "ih = np.linspace(0,4,101); ee1 = np.zeros([len(ih),2*N])\n",
    "for j in range(len(ih)):\n",
    "    ee1[j],_ = compute(SSH_model(N,ih[j],2))\n",
    "plt.figure(title=\"Energy Spectrum versus intra cell hopping(N = 15)\")\n",
    "for k in range(2*N):\n",
    "    plt.plot(ih,ee1[:,k])\n",
    "plt.ylabel('Energy')\n",
    "plt.xlabel('Intra cell hopping(t1)')\n",
    "plt.show()"
   ]
  }
 ],
 "metadata": {
  "kernelspec": {
   "display_name": "Python 3",
   "language": "python",
   "name": "python3"
  },
  "language_info": {
   "codemirror_mode": {
    "name": "ipython",
    "version": 3
   },
   "file_extension": ".py",
   "mimetype": "text/x-python",
   "name": "python",
   "nbconvert_exporter": "python",
   "pygments_lexer": "ipython3",
   "version": "3.6.8"
  },
  "latex_envs": {
   "LaTeX_envs_menu_present": true,
   "autoclose": false,
   "autocomplete": true,
   "bibliofile": "biblio.bib",
   "cite_by": "apalike",
   "current_citInitial": 1,
   "eqLabelWithNumbers": true,
   "eqNumInitial": 1,
   "hotkeys": {
    "equation": "Ctrl-E",
    "itemize": "Ctrl-I"
   },
   "labels_anchors": false,
   "latex_user_defs": false,
   "report_style_numbering": false,
   "user_envs_cfg": false
  },
  "toc": {
   "base_numbering": 1,
   "nav_menu": {},
   "number_sections": false,
   "sideBar": true,
   "skip_h1_title": false,
   "title_cell": "Table of Contents",
   "title_sidebar": "Contents",
   "toc_cell": false,
   "toc_position": {},
   "toc_section_display": true,
   "toc_window_display": false
  }
 },
 "nbformat": 4,
 "nbformat_minor": 2
}
